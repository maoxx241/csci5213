{
 "cells": [
  {
   "cell_type": "markdown",
   "metadata": {},
   "source": [
    "Qi Mao\n",
    "\n",
    "Haowen Luo"
   ]
  },
  {
   "cell_type": "code",
   "execution_count": 255,
   "metadata": {},
   "outputs": [],
   "source": [
    "from keras.layers import Input, Embedding, Flatten, Dot, Dense, Concatenate, Dropout, Activation\n",
    "from keras.models import Model\n",
    "from keras.optimizers import Adam\n",
    "from sklearn.metrics import mean_squared_error\n",
    "from sklearn.metrics import mean_absolute_error\n",
    "from sklearn.model_selection import train_test_split\n",
    "from keras.regularizers import l2\n",
    "from math import sqrt\n",
    "import numpy as np\n",
    "import pandas as pd\n",
    "import matplotlib as plt"
   ]
  },
  {
   "cell_type": "code",
   "execution_count": 69,
   "metadata": {},
   "outputs": [
    {
     "name": "stderr",
     "output_type": "stream",
     "text": [
      "/Users/kindred/anaconda3/lib/python3.7/site-packages/ipykernel_launcher.py:1: ParserWarning: Falling back to the 'python' engine because the 'c' engine does not support regex separators (separators > 1 char and different from '\\s+' are interpreted as regex); you can avoid this warning by specifying engine='python'.\n",
      "  \"\"\"Entry point for launching an IPython kernel.\n"
     ]
    }
   ],
   "source": [
    "ratings= pd.read_csv('/Users/kindred/csci5123/a3-code/ml-1m/ratings.dat',sep='::',header=None)"
   ]
  },
  {
   "cell_type": "code",
   "execution_count": 70,
   "metadata": {},
   "outputs": [
    {
     "data": {
      "text/html": [
       "<div>\n",
       "<style scoped>\n",
       "    .dataframe tbody tr th:only-of-type {\n",
       "        vertical-align: middle;\n",
       "    }\n",
       "\n",
       "    .dataframe tbody tr th {\n",
       "        vertical-align: top;\n",
       "    }\n",
       "\n",
       "    .dataframe thead th {\n",
       "        text-align: right;\n",
       "    }\n",
       "</style>\n",
       "<table border=\"1\" class=\"dataframe\">\n",
       "  <thead>\n",
       "    <tr style=\"text-align: right;\">\n",
       "      <th></th>\n",
       "      <th>user</th>\n",
       "      <th>item</th>\n",
       "      <th>rating</th>\n",
       "    </tr>\n",
       "  </thead>\n",
       "  <tbody>\n",
       "    <tr>\n",
       "      <th>0</th>\n",
       "      <td>1</td>\n",
       "      <td>1193</td>\n",
       "      <td>5</td>\n",
       "    </tr>\n",
       "    <tr>\n",
       "      <th>1</th>\n",
       "      <td>1</td>\n",
       "      <td>661</td>\n",
       "      <td>3</td>\n",
       "    </tr>\n",
       "    <tr>\n",
       "      <th>2</th>\n",
       "      <td>1</td>\n",
       "      <td>914</td>\n",
       "      <td>3</td>\n",
       "    </tr>\n",
       "    <tr>\n",
       "      <th>3</th>\n",
       "      <td>1</td>\n",
       "      <td>3408</td>\n",
       "      <td>4</td>\n",
       "    </tr>\n",
       "    <tr>\n",
       "      <th>4</th>\n",
       "      <td>1</td>\n",
       "      <td>2355</td>\n",
       "      <td>5</td>\n",
       "    </tr>\n",
       "  </tbody>\n",
       "</table>\n",
       "</div>"
      ],
      "text/plain": [
       "   user  item  rating\n",
       "0     1  1193       5\n",
       "1     1   661       3\n",
       "2     1   914       3\n",
       "3     1  3408       4\n",
       "4     1  2355       5"
      ]
     },
     "execution_count": 70,
     "metadata": {},
     "output_type": "execute_result"
    }
   ],
   "source": [
    "ratings=ratings.rename(columns={0: \"user\", 1: \"item\",2: \"rating\",3: \"timestamp\"})\n",
    "ratings=ratings[['user','item','rating']]\n",
    "ratings.head()"
   ]
  },
  {
   "cell_type": "markdown",
   "metadata": {},
   "source": [
    "<h2>FunkSVD<b2>"
   ]
  },
  {
   "cell_type": "code",
   "execution_count": 99,
   "metadata": {},
   "outputs": [],
   "source": [
    "from lenskit import batch, topn, util\n",
    "from lenskit import crossfold as xf\n",
    "from lenskit.batch import predict\n",
    "from lenskit.algorithms.funksvd import FunkSVD\n",
    "from lenskit.metrics.predict import rmse\n",
    "from lenskit.algorithms import Recommender"
   ]
  },
  {
   "cell_type": "code",
   "execution_count": 100,
   "metadata": {},
   "outputs": [],
   "source": [
    "def eval1(aname, algo, train, test):\n",
    "    algo.fit(train)\n",
    "    preds = predict(algo, test)\n",
    "    preds_train=predict(algo,train)\n",
    "    return [aname,rmse(preds['prediction'],preds['rating']),rmse(preds_train['prediction'],preds_train['rating'])]"
   ]
  },
  {
   "cell_type": "code",
   "execution_count": 101,
   "metadata": {},
   "outputs": [],
   "source": [
    "all_recs1 = []\n",
    "test_data1 = []\n",
    "algo_fsvd=FunkSVD(50)\n",
    "for train, test in xf.partition_users(ratings[['user', 'item', 'rating']], 5, xf.SampleFrac(0.2)):\n",
    "    test_data1.append(test)\n",
    "    all_recs1.append(eval1('FunkSVD', algo_fsvd, train, test))"
   ]
  },
  {
   "cell_type": "code",
   "execution_count": 102,
   "metadata": {},
   "outputs": [],
   "source": [
    "df = pd.DataFrame(np.array(all_recs1))\n",
    "df=df.rename(columns={0: \"algorithm\", 1: \"RSME\",2:\"RSME_for_train\"})\n",
    "df['RSME'] = df['RSME'].astype(float)\n",
    "df['RSME_for_train'] = df['RSME_for_train'].astype(float)"
   ]
  },
  {
   "cell_type": "code",
   "execution_count": 105,
   "metadata": {},
   "outputs": [
    {
     "data": {
      "text/plain": [
       "algorithm\n",
       "FunkSVD    0.854077\n",
       "Name: RSME, dtype: float64"
      ]
     },
     "execution_count": 105,
     "metadata": {},
     "output_type": "execute_result"
    }
   ],
   "source": [
    "df.groupby('algorithm').RSME.mean()"
   ]
  },
  {
   "cell_type": "markdown",
   "metadata": {},
   "source": [
    "<h2>Keras "
   ]
  },
  {
   "cell_type": "code",
   "execution_count": 369,
   "metadata": {},
   "outputs": [],
   "source": [
    "def Rmse(y_actual,y_predicted):\n",
    "    return (sqrt(mean_squared_error(y_actual, y_predicted)))"
   ]
  },
  {
   "cell_type": "code",
   "execution_count": 71,
   "metadata": {},
   "outputs": [],
   "source": [
    "ratings['user_id']=ratings['user']\n",
    "ratings['item_id']=ratings['item']"
   ]
  },
  {
   "cell_type": "code",
   "execution_count": 365,
   "metadata": {},
   "outputs": [
    {
     "data": {
      "text/html": [
       "<div>\n",
       "<style scoped>\n",
       "    .dataframe tbody tr th:only-of-type {\n",
       "        vertical-align: middle;\n",
       "    }\n",
       "\n",
       "    .dataframe tbody tr th {\n",
       "        vertical-align: top;\n",
       "    }\n",
       "\n",
       "    .dataframe thead th {\n",
       "        text-align: right;\n",
       "    }\n",
       "</style>\n",
       "<table border=\"1\" class=\"dataframe\">\n",
       "  <thead>\n",
       "    <tr style=\"text-align: right;\">\n",
       "      <th></th>\n",
       "      <th>user</th>\n",
       "      <th>item</th>\n",
       "      <th>rating</th>\n",
       "      <th>user_id</th>\n",
       "      <th>item_id</th>\n",
       "    </tr>\n",
       "  </thead>\n",
       "  <tbody>\n",
       "    <tr>\n",
       "      <th>0</th>\n",
       "      <td>1</td>\n",
       "      <td>1193</td>\n",
       "      <td>5</td>\n",
       "      <td>1</td>\n",
       "      <td>1193</td>\n",
       "    </tr>\n",
       "    <tr>\n",
       "      <th>1</th>\n",
       "      <td>1</td>\n",
       "      <td>661</td>\n",
       "      <td>3</td>\n",
       "      <td>1</td>\n",
       "      <td>661</td>\n",
       "    </tr>\n",
       "    <tr>\n",
       "      <th>2</th>\n",
       "      <td>1</td>\n",
       "      <td>914</td>\n",
       "      <td>3</td>\n",
       "      <td>1</td>\n",
       "      <td>914</td>\n",
       "    </tr>\n",
       "    <tr>\n",
       "      <th>3</th>\n",
       "      <td>1</td>\n",
       "      <td>3408</td>\n",
       "      <td>4</td>\n",
       "      <td>1</td>\n",
       "      <td>3408</td>\n",
       "    </tr>\n",
       "    <tr>\n",
       "      <th>4</th>\n",
       "      <td>1</td>\n",
       "      <td>2355</td>\n",
       "      <td>5</td>\n",
       "      <td>1</td>\n",
       "      <td>2355</td>\n",
       "    </tr>\n",
       "  </tbody>\n",
       "</table>\n",
       "</div>"
      ],
      "text/plain": [
       "   user  item  rating  user_id  item_id\n",
       "0     1  1193       5        1     1193\n",
       "1     1   661       3        1      661\n",
       "2     1   914       3        1      914\n",
       "3     1  3408       4        1     3408\n",
       "4     1  2355       5        1     2355"
      ]
     },
     "execution_count": 365,
     "metadata": {},
     "output_type": "execute_result"
    }
   ],
   "source": [
    "ratings.head()"
   ]
  },
  {
   "cell_type": "code",
   "execution_count": 308,
   "metadata": {},
   "outputs": [],
   "source": [
    "dataset=ratings.copy()\n",
    "#https://nipunbatra.github.io/blog/2017/recommend-keras.html In[5]\n",
    "dataset['user_id'] = dataset['user_id'].astype('category').cat.codes.values\n",
    "dataset['item_id'] = dataset['item_id'].astype('category').cat.codes.values\n",
    "#https://github.com/ririw/ririw.github.io/blob/master/assets/Recommending%20movies.ipynb In[6]\n",
    "y = np.zeros((dataset.shape[0],5))\n",
    "y[np.arange(dataset.shape[0]),dataset.rating -1]=1"
   ]
  },
  {
   "cell_type": "code",
   "execution_count": 364,
   "metadata": {},
   "outputs": [
    {
     "data": {
      "text/html": [
       "<div>\n",
       "<style scoped>\n",
       "    .dataframe tbody tr th:only-of-type {\n",
       "        vertical-align: middle;\n",
       "    }\n",
       "\n",
       "    .dataframe tbody tr th {\n",
       "        vertical-align: top;\n",
       "    }\n",
       "\n",
       "    .dataframe thead th {\n",
       "        text-align: right;\n",
       "    }\n",
       "</style>\n",
       "<table border=\"1\" class=\"dataframe\">\n",
       "  <thead>\n",
       "    <tr style=\"text-align: right;\">\n",
       "      <th></th>\n",
       "      <th>user</th>\n",
       "      <th>item</th>\n",
       "      <th>rating</th>\n",
       "      <th>user_id</th>\n",
       "      <th>item_id</th>\n",
       "    </tr>\n",
       "  </thead>\n",
       "  <tbody>\n",
       "    <tr>\n",
       "      <th>0</th>\n",
       "      <td>1</td>\n",
       "      <td>1193</td>\n",
       "      <td>5</td>\n",
       "      <td>0</td>\n",
       "      <td>1104</td>\n",
       "    </tr>\n",
       "    <tr>\n",
       "      <th>1</th>\n",
       "      <td>1</td>\n",
       "      <td>661</td>\n",
       "      <td>3</td>\n",
       "      <td>0</td>\n",
       "      <td>639</td>\n",
       "    </tr>\n",
       "    <tr>\n",
       "      <th>2</th>\n",
       "      <td>1</td>\n",
       "      <td>914</td>\n",
       "      <td>3</td>\n",
       "      <td>0</td>\n",
       "      <td>853</td>\n",
       "    </tr>\n",
       "    <tr>\n",
       "      <th>3</th>\n",
       "      <td>1</td>\n",
       "      <td>3408</td>\n",
       "      <td>4</td>\n",
       "      <td>0</td>\n",
       "      <td>3177</td>\n",
       "    </tr>\n",
       "    <tr>\n",
       "      <th>4</th>\n",
       "      <td>1</td>\n",
       "      <td>2355</td>\n",
       "      <td>5</td>\n",
       "      <td>0</td>\n",
       "      <td>2162</td>\n",
       "    </tr>\n",
       "  </tbody>\n",
       "</table>\n",
       "</div>"
      ],
      "text/plain": [
       "   user  item  rating  user_id  item_id\n",
       "0     1  1193       5        0     1104\n",
       "1     1   661       3        0      639\n",
       "2     1   914       3        0      853\n",
       "3     1  3408       4        0     3177\n",
       "4     1  2355       5        0     2162"
      ]
     },
     "execution_count": 364,
     "metadata": {},
     "output_type": "execute_result"
    }
   ],
   "source": [
    "dataset.head()"
   ]
  },
  {
   "cell_type": "code",
   "execution_count": 310,
   "metadata": {},
   "outputs": [],
   "source": [
    "train, test, train_y, test_y= train_test_split(dataset,y, test_size=0.2)"
   ]
  },
  {
   "cell_type": "code",
   "execution_count": 311,
   "metadata": {},
   "outputs": [
    {
     "name": "stdout",
     "output_type": "stream",
     "text": [
      "6040\n",
      "3706\n"
     ]
    }
   ],
   "source": [
    "n_user, n_item = len(dataset['user'].unique()), len(dataset['item'].unique())\n",
    "print(str(n_user)+\"\\n\"+str(n_item))"
   ]
  },
  {
   "cell_type": "code",
   "execution_count": 312,
   "metadata": {},
   "outputs": [],
   "source": [
    "#First of all, I thought of using five output nodes to output the results, which represent 1-5 ratings. \n",
    "#But with this method, the RMSE will be very large, even exceeding 1, but the MAE will be very small.\n",
    "def Recommender(user,item):\n",
    "    n_latent_factors_user = 50\n",
    "    n_latent_factors_item = 50\n",
    "\n",
    "    item_input = Input(shape=[1],name='Item')\n",
    "    item_embedding = Embedding(item+1, n_latent_factors_item, name='Item-Embedding')(item_input)\n",
    "    item_vec = Flatten(name='FlattenItem')(item_embedding)\n",
    "    item_vec = Dropout(0.2)(item_vec)\n",
    "\n",
    "\n",
    "    user_input = Input(shape=[1],name='User')\n",
    "    user_embedding = Embedding(user+1, n_latent_factors_user, name='User-Embedding')(user_input)\n",
    "    user_vec = Flatten(name='FlattenUsers')(user_embedding)\n",
    "    user_vec = Dropout(0.2)(user_vec)\n",
    "\n",
    "    #http://blog.richardweiss.org/2016/09/25/movie-embeddings.html\n",
    "    concat = Concatenate()([item_vec,user_vec])\n",
    "    lm = Dropout(0.2)(concat)\n",
    "    lm = Dense(200,name='FullyConnected', activation='relu')(lm)\n",
    "    lm = Dropout(0.2,name='Dropout1')(lm)\n",
    "    lm = Dense(100,name='FullyConnected-1', activation='relu')(lm)\n",
    "    lm = Dropout(0.3,name='Dropout2')(lm)\n",
    "    lm = Dense(50,name='FullyConnected-2',activation='relu')(lm)\n",
    "    lm = Dropout(0.4,name='Dropout3')(lm)\n",
    "    lm = Dense(5,name='FullyConnected-4',activation='softmax')(lm)\n",
    "    \n",
    "\n",
    "    model = Model([item_input,user_input], lm)\n",
    "    model.compile(optimizer='adam',loss= 'categorical_crossentropy')\n",
    "    return model"
   ]
  },
  {
   "cell_type": "code",
   "execution_count": 313,
   "metadata": {},
   "outputs": [
    {
     "name": "stdout",
     "output_type": "stream",
     "text": [
      "Model: \"model_46\"\n",
      "__________________________________________________________________________________________________\n",
      "Layer (type)                    Output Shape         Param #     Connected to                     \n",
      "==================================================================================================\n",
      "Item (InputLayer)               (None, 1)            0                                            \n",
      "__________________________________________________________________________________________________\n",
      "User (InputLayer)               (None, 1)            0                                            \n",
      "__________________________________________________________________________________________________\n",
      "Item-Embedding (Embedding)      (None, 1, 50)        185350      Item[0][0]                       \n",
      "__________________________________________________________________________________________________\n",
      "User-Embedding (Embedding)      (None, 1, 50)        302050      User[0][0]                       \n",
      "__________________________________________________________________________________________________\n",
      "FlattenItem (Flatten)           (None, 50)           0           Item-Embedding[0][0]             \n",
      "__________________________________________________________________________________________________\n",
      "FlattenUsers (Flatten)          (None, 50)           0           User-Embedding[0][0]             \n",
      "__________________________________________________________________________________________________\n",
      "dropout_99 (Dropout)            (None, 50)           0           FlattenItem[0][0]                \n",
      "__________________________________________________________________________________________________\n",
      "dropout_100 (Dropout)           (None, 50)           0           FlattenUsers[0][0]               \n",
      "__________________________________________________________________________________________________\n",
      "concatenate_54 (Concatenate)    (None, 100)          0           dropout_99[0][0]                 \n",
      "                                                                 dropout_100[0][0]                \n",
      "__________________________________________________________________________________________________\n",
      "dropout_101 (Dropout)           (None, 100)          0           concatenate_54[0][0]             \n",
      "__________________________________________________________________________________________________\n",
      "FullyConnected (Dense)          (None, 200)          20200       dropout_101[0][0]                \n",
      "__________________________________________________________________________________________________\n",
      "Dropout1 (Dropout)              (None, 200)          0           FullyConnected[0][0]             \n",
      "__________________________________________________________________________________________________\n",
      "FullyConnected-1 (Dense)        (None, 100)          20100       Dropout1[0][0]                   \n",
      "__________________________________________________________________________________________________\n",
      "Dropout2 (Dropout)              (None, 100)          0           FullyConnected-1[0][0]           \n",
      "__________________________________________________________________________________________________\n",
      "FullyConnected-2 (Dense)        (None, 50)           5050        Dropout2[0][0]                   \n",
      "__________________________________________________________________________________________________\n",
      "Dropout3 (Dropout)              (None, 50)           0           FullyConnected-2[0][0]           \n",
      "__________________________________________________________________________________________________\n",
      "FullyConnected-4 (Dense)        (None, 5)            255         Dropout3[0][0]                   \n",
      "==================================================================================================\n",
      "Total params: 533,005\n",
      "Trainable params: 533,005\n",
      "Non-trainable params: 0\n",
      "__________________________________________________________________________________________________\n"
     ]
    }
   ],
   "source": [
    "model = Recommender(n_user, n_item)\n",
    "model.summary()"
   ]
  },
  {
   "cell_type": "code",
   "execution_count": 315,
   "metadata": {},
   "outputs": [
    {
     "name": "stdout",
     "output_type": "stream",
     "text": [
      "Epoch 1/5\n",
      "800167/800167 [==============================] - 124s 155us/step - loss: 1.2705\n",
      "Epoch 2/5\n",
      "800167/800167 [==============================] - 126s 157us/step - loss: 1.2298\n",
      "Epoch 3/5\n",
      "800167/800167 [==============================] - 129s 161us/step - loss: 1.2205\n",
      "Epoch 4/5\n",
      "800167/800167 [==============================] - 139s 174us/step - loss: 1.2142\n",
      "Epoch 5/5\n",
      "800167/800167 [==============================] - 132s 165us/step - loss: 1.2101\n"
     ]
    }
   ],
   "source": [
    "history = model.fit([train['item_id'],train['user_id'] ], train_y, epochs=5, verbose=1)"
   ]
  },
  {
   "cell_type": "code",
   "execution_count": 370,
   "metadata": {},
   "outputs": [
    {
     "name": "stdout",
     "output_type": "stream",
     "text": [
      "RMSE is  1.0167388606907497\n",
      "MSE is  1.0337579108387238\n",
      "MAE is  0.677412743323902\n"
     ]
    }
   ],
   "source": [
    "print(\"RMSE is \",Rmse(np.argmax(test_y,1)+1, np.argmax(model.predict([test['item_id'], test['user_id']]),1)+1))\n",
    "print(\"MSE is \",mean_squared_error(np.argmax(test_y,1)+1, np.argmax(model.predict([test['item_id'], test['user_id']]),1)+1))\n",
    "print(\"MAE is \",mean_absolute_error(np.argmax(test_y,1)+1, np.argmax(model.predict([test['item_id'], test['user_id']]),1)+1))"
   ]
  },
  {
   "cell_type": "markdown",
   "metadata": {},
   "source": [
    "RMSE is much bigger than FunkSVD"
   ]
  },
  {
   "cell_type": "code",
   "execution_count": 342,
   "metadata": {},
   "outputs": [],
   "source": [
    "#This time, I chose to remove too many dropouts, and finally use the relu activation function according to \n",
    "#https://nipunbatra.github.io/blog/2017/recommend-keras.html\n",
    "def Recommender_opt(user,item):\n",
    "    n_latent_factors_user = 50\n",
    "    n_latent_factors_item = 50\n",
    "\n",
    "    item_input = Input(shape=[1],name='Item')\n",
    "    item_embedding = Embedding(item+1, n_latent_factors_item, name='Item-Embedding')(item_input)\n",
    "    item_vec = Flatten(name='FlattenItem')(item_embedding)\n",
    "    item_vec = Dropout(0.2)(item_vec)\n",
    "\n",
    "\n",
    "    user_input = Input(shape=[1],name='User')\n",
    "    user_embedding = Embedding(user+1, n_latent_factors_user, name='User-Embedding')(user_input)\n",
    "    user_vec = Flatten(name='FlattenUsers')(user_embedding)\n",
    "    user_vec = Dropout(0.2)(user_vec)\n",
    "\n",
    "\n",
    "\n",
    "    concat = Concatenate()([item_vec,user_vec])\n",
    "    lm = Dropout(0.2)(concat)\n",
    "    lm = Dense(200,name='FullyConnected')(lm)\n",
    "    lm = Dense(100,name='FullyConnected-1')(lm)\n",
    "    lm = Dense(50,name='FullyConnected-2')(lm)\n",
    "    lm = Dense(20,name='FullyConnected-3',activation='relu')(lm)\n",
    "    lm = Dense(1,name='FullyConnected-4')(lm)\n",
    "    \n",
    "    result = Activation('relu')(lm)\n",
    "    opt = Adam(lr=0.001)\n",
    "    \n",
    "    model = Model([user_input, item_input], result)\n",
    "    model.compile(optimizer=opt,loss= 'mean_squared_error')\n",
    "    return model"
   ]
  },
  {
   "cell_type": "code",
   "execution_count": 343,
   "metadata": {},
   "outputs": [],
   "source": [
    "model_opt = Recommender_opt(n_user, n_item)"
   ]
  },
  {
   "cell_type": "code",
   "execution_count": 344,
   "metadata": {},
   "outputs": [
    {
     "name": "stdout",
     "output_type": "stream",
     "text": [
      "Model: \"model_51\"\n",
      "__________________________________________________________________________________________________\n",
      "Layer (type)                    Output Shape         Param #     Connected to                     \n",
      "==================================================================================================\n",
      "Item (InputLayer)               (None, 1)            0                                            \n",
      "__________________________________________________________________________________________________\n",
      "User (InputLayer)               (None, 1)            0                                            \n",
      "__________________________________________________________________________________________________\n",
      "Item-Embedding (Embedding)      (None, 1, 50)        185350      Item[0][0]                       \n",
      "__________________________________________________________________________________________________\n",
      "User-Embedding (Embedding)      (None, 1, 50)        302050      User[0][0]                       \n",
      "__________________________________________________________________________________________________\n",
      "FlattenItem (Flatten)           (None, 50)           0           Item-Embedding[0][0]             \n",
      "__________________________________________________________________________________________________\n",
      "FlattenUsers (Flatten)          (None, 50)           0           User-Embedding[0][0]             \n",
      "__________________________________________________________________________________________________\n",
      "dropout_112 (Dropout)           (None, 50)           0           FlattenItem[0][0]                \n",
      "__________________________________________________________________________________________________\n",
      "dropout_113 (Dropout)           (None, 50)           0           FlattenUsers[0][0]               \n",
      "__________________________________________________________________________________________________\n",
      "concatenate_59 (Concatenate)    (None, 100)          0           dropout_112[0][0]                \n",
      "                                                                 dropout_113[0][0]                \n",
      "__________________________________________________________________________________________________\n",
      "dropout_114 (Dropout)           (None, 100)          0           concatenate_59[0][0]             \n",
      "__________________________________________________________________________________________________\n",
      "FullyConnected (Dense)          (None, 200)          20200       dropout_114[0][0]                \n",
      "__________________________________________________________________________________________________\n",
      "FullyConnected-1 (Dense)        (None, 100)          20100       FullyConnected[0][0]             \n",
      "__________________________________________________________________________________________________\n",
      "FullyConnected-2 (Dense)        (None, 50)           5050        FullyConnected-1[0][0]           \n",
      "__________________________________________________________________________________________________\n",
      "FullyConnected-3 (Dense)        (None, 20)           1020        FullyConnected-2[0][0]           \n",
      "__________________________________________________________________________________________________\n",
      "FullyConnected-4 (Dense)        (None, 1)            21          FullyConnected-3[0][0]           \n",
      "__________________________________________________________________________________________________\n",
      "activation_28 (Activation)      (None, 1)            0           FullyConnected-4[0][0]           \n",
      "==================================================================================================\n",
      "Total params: 533,791\n",
      "Trainable params: 533,791\n",
      "Non-trainable params: 0\n",
      "__________________________________________________________________________________________________\n"
     ]
    }
   ],
   "source": [
    "model_opt.summary()"
   ]
  },
  {
   "cell_type": "code",
   "execution_count": 345,
   "metadata": {},
   "outputs": [
    {
     "name": "stderr",
     "output_type": "stream",
     "text": [
      "/Users/kindred/anaconda3/lib/python3.7/site-packages/tensorflow_core/python/framework/indexed_slices.py:424: UserWarning: Converting sparse IndexedSlices to a dense Tensor of unknown shape. This may consume a large amount of memory.\n",
      "  \"Converting sparse IndexedSlices to a dense Tensor of unknown shape. \"\n"
     ]
    },
    {
     "name": "stdout",
     "output_type": "stream",
     "text": [
      "Epoch 1/10\n",
      "800167/800167 [==============================] - 130s 162us/step - loss: 0.9058\n",
      "Epoch 2/10\n",
      "800167/800167 [==============================] - 171s 214us/step - loss: 0.8363\n",
      "Epoch 3/10\n",
      "800167/800167 [==============================] - 173s 216us/step - loss: 0.8179\n",
      "Epoch 4/10\n",
      "800167/800167 [==============================] - 165s 206us/step - loss: 0.8068\n",
      "Epoch 5/10\n",
      "800167/800167 [==============================] - 164s 204us/step - loss: 0.7990\n",
      "Epoch 6/10\n",
      "800167/800167 [==============================] - 160s 199us/step - loss: 0.7940\n",
      "Epoch 7/10\n",
      "800167/800167 [==============================] - 152s 190us/step - loss: 0.7897\n",
      "Epoch 8/10\n",
      "800167/800167 [==============================] - 154s 192us/step - loss: 0.7860\n",
      "Epoch 9/10\n",
      "800167/800167 [==============================] - 139s 173us/step - loss: 0.7821\n",
      "Epoch 10/10\n",
      "800167/800167 [==============================] - 162s 203us/step - loss: 0.7793\n"
     ]
    }
   ],
   "source": [
    "history = model_opt.fit([train['user_id'],train['item_id'] ], train['rating'], epochs=10, verbose=1)"
   ]
  },
  {
   "cell_type": "code",
   "execution_count": 371,
   "metadata": {},
   "outputs": [
    {
     "name": "stdout",
     "output_type": "stream",
     "text": [
      "RMSE is  0.8865349192389449\n"
     ]
    }
   ],
   "source": [
    "print(\"RMSE is \",Rmse(test['rating'], model_opt.predict([test['user_id'], test['item_id']])))"
   ]
  },
  {
   "cell_type": "code",
   "execution_count": 372,
   "metadata": {},
   "outputs": [
    {
     "name": "stdout",
     "output_type": "stream",
     "text": [
      "MSE is  0.7859441630300026\n"
     ]
    }
   ],
   "source": [
    "print(\"MSE is \",mean_squared_error(test['rating'], model_opt.predict([test.user_id, test.item_id])))"
   ]
  },
  {
   "cell_type": "code",
   "execution_count": 373,
   "metadata": {},
   "outputs": [
    {
     "name": "stdout",
     "output_type": "stream",
     "text": [
      "MAE is  0.6974150409064045\n"
     ]
    }
   ],
   "source": [
    "print(\"MAE is \",mean_absolute_error(test['rating'], model_opt.predict([test.user_id, test.item_id])))"
   ]
  },
  {
   "cell_type": "code",
   "execution_count": 358,
   "metadata": {},
   "outputs": [],
   "source": [
    "#To minimize RMSE, I chose to fit the model as much as possible, or even overfit. so I add two layers\n",
    "def Recommender_opt2(user,item):\n",
    "    n_latent_factors_user = 50\n",
    "    n_latent_factors_item = 50\n",
    "\n",
    "    item_input = Input(shape=[1],name='Item')\n",
    "    item_embedding = Embedding(item+1, n_latent_factors_item, name='Item-Embedding')(item_input)\n",
    "    item_vec = Flatten(name='FlattenItem')(item_embedding)\n",
    "\n",
    "\n",
    "\n",
    "    user_input = Input(shape=[1],name='User')\n",
    "    user_embedding = Embedding(user+1, n_latent_factors_user, name='User-Embedding')(user_input)\n",
    "    user_vec = Flatten(name='FlattenUsers')(user_embedding)\n",
    "\n",
    "\n",
    "\n",
    "\n",
    "    concat = Concatenate()([item_vec,user_vec])\n",
    "    lm = Dropout(0.2)(concat)\n",
    "    lm = Dense(400,name='FullyConnected',activation='relu')(lm)\n",
    "    lm = Dense(200,name='FullyConnected-1',activation='relu')(lm)\n",
    "    lm = Dense(100,name='FullyConnected-2',activation='relu')(lm)\n",
    "    lm = Dense(50,name='FullyConnected-3',activation='relu')(lm)\n",
    "    lm = Dense(20,name='FullyConnected-4',activation='relu')(lm)\n",
    "    lm = Dense(10,name='FullyConnected-5',activation='relu')(lm)\n",
    "    lm = Dense(1,name='FullyConnected-6')(lm)\n",
    "    \n",
    "    result = Activation('relu')(lm)\n",
    "    opt = Adam(lr=0.001)\n",
    "    \n",
    "    model = Model([user_input, item_input], result)\n",
    "    model.compile(optimizer=opt,loss= 'mean_squared_error')\n",
    "    return model"
   ]
  },
  {
   "cell_type": "code",
   "execution_count": 359,
   "metadata": {},
   "outputs": [
    {
     "name": "stdout",
     "output_type": "stream",
     "text": [
      "Model: \"model_55\"\n",
      "__________________________________________________________________________________________________\n",
      "Layer (type)                    Output Shape         Param #     Connected to                     \n",
      "==================================================================================================\n",
      "Item (InputLayer)               (None, 1)            0                                            \n",
      "__________________________________________________________________________________________________\n",
      "User (InputLayer)               (None, 1)            0                                            \n",
      "__________________________________________________________________________________________________\n",
      "Item-Embedding (Embedding)      (None, 1, 50)        185350      Item[0][0]                       \n",
      "__________________________________________________________________________________________________\n",
      "User-Embedding (Embedding)      (None, 1, 50)        302050      User[0][0]                       \n",
      "__________________________________________________________________________________________________\n",
      "FlattenItem (Flatten)           (None, 50)           0           Item-Embedding[0][0]             \n",
      "__________________________________________________________________________________________________\n",
      "FlattenUsers (Flatten)          (None, 50)           0           User-Embedding[0][0]             \n",
      "__________________________________________________________________________________________________\n",
      "concatenate_63 (Concatenate)    (None, 100)          0           FlattenItem[0][0]                \n",
      "                                                                 FlattenUsers[0][0]               \n",
      "__________________________________________________________________________________________________\n",
      "dropout_118 (Dropout)           (None, 100)          0           concatenate_63[0][0]             \n",
      "__________________________________________________________________________________________________\n",
      "FullyConnected (Dense)          (None, 400)          40400       dropout_118[0][0]                \n",
      "__________________________________________________________________________________________________\n",
      "FullyConnected-1 (Dense)        (None, 200)          80200       FullyConnected[0][0]             \n",
      "__________________________________________________________________________________________________\n",
      "FullyConnected-2 (Dense)        (None, 100)          20100       FullyConnected-1[0][0]           \n",
      "__________________________________________________________________________________________________\n",
      "FullyConnected-3 (Dense)        (None, 50)           5050        FullyConnected-2[0][0]           \n",
      "__________________________________________________________________________________________________\n",
      "FullyConnected-4 (Dense)        (None, 20)           1020        FullyConnected-3[0][0]           \n",
      "__________________________________________________________________________________________________\n",
      "FullyConnected-5 (Dense)        (None, 10)           210         FullyConnected-4[0][0]           \n",
      "__________________________________________________________________________________________________\n",
      "FullyConnected-6 (Dense)        (None, 1)            11          FullyConnected-5[0][0]           \n",
      "__________________________________________________________________________________________________\n",
      "activation_32 (Activation)      (None, 1)            0           FullyConnected-6[0][0]           \n",
      "==================================================================================================\n",
      "Total params: 634,391\n",
      "Trainable params: 634,391\n",
      "Non-trainable params: 0\n",
      "__________________________________________________________________________________________________\n"
     ]
    }
   ],
   "source": [
    "model_opt2 = Recommender_opt2(n_user, n_item)\n",
    "model_opt2.summary()"
   ]
  },
  {
   "cell_type": "code",
   "execution_count": 360,
   "metadata": {},
   "outputs": [
    {
     "name": "stderr",
     "output_type": "stream",
     "text": [
      "/Users/kindred/anaconda3/lib/python3.7/site-packages/tensorflow_core/python/framework/indexed_slices.py:424: UserWarning: Converting sparse IndexedSlices to a dense Tensor of unknown shape. This may consume a large amount of memory.\n",
      "  \"Converting sparse IndexedSlices to a dense Tensor of unknown shape. \"\n"
     ]
    },
    {
     "name": "stdout",
     "output_type": "stream",
     "text": [
      "Epoch 1/10\n",
      "800167/800167 [==============================] - 221s 276us/step - loss: 0.8857\n",
      "Epoch 2/10\n",
      "800167/800167 [==============================] - 217s 271us/step - loss: 0.7991\n",
      "Epoch 3/10\n",
      "800167/800167 [==============================] - 227s 284us/step - loss: 0.7722\n",
      "Epoch 4/10\n",
      "800167/800167 [==============================] - 211s 264us/step - loss: 0.7576\n",
      "Epoch 5/10\n",
      "800167/800167 [==============================] - 208s 260us/step - loss: 0.7473\n",
      "Epoch 6/10\n",
      "800167/800167 [==============================] - 212s 265us/step - loss: 0.7378\n",
      "Epoch 7/10\n",
      "800167/800167 [==============================] - 212s 265us/step - loss: 0.7273\n",
      "Epoch 8/10\n",
      "800167/800167 [==============================] - 212s 265us/step - loss: 0.7170\n",
      "Epoch 9/10\n",
      "800167/800167 [==============================] - 203s 254us/step - loss: 0.7070\n",
      "Epoch 10/10\n",
      "800167/800167 [==============================] - 211s 263us/step - loss: 0.6981\n"
     ]
    }
   ],
   "source": [
    "history = model_opt2.fit([train['user_id'],train['item_id'] ], train['rating'], epochs=10, verbose=1)"
   ]
  },
  {
   "cell_type": "code",
   "execution_count": 374,
   "metadata": {},
   "outputs": [
    {
     "name": "stdout",
     "output_type": "stream",
     "text": [
      "RMSE is  0.8721426175498154\n"
     ]
    }
   ],
   "source": [
    "print(\"RMSE is \", Rmse(test['rating'], model_opt2.predict([test['user_id'], test['item_id']])))"
   ]
  },
  {
   "cell_type": "code",
   "execution_count": 375,
   "metadata": {},
   "outputs": [
    {
     "name": "stdout",
     "output_type": "stream",
     "text": [
      "MSE is  0.7606327453466435\n"
     ]
    }
   ],
   "source": [
    "print(\"MSE is \", mean_squared_error(test['rating'], model_opt2.predict([test.user_id, test.item_id])))"
   ]
  },
  {
   "cell_type": "code",
   "execution_count": 376,
   "metadata": {},
   "outputs": [
    {
     "name": "stdout",
     "output_type": "stream",
     "text": [
      "MAE is  0.6790471602466616\n"
     ]
    }
   ],
   "source": [
    "print(\"MAE is \", mean_absolute_error(test['rating'], model_opt2.predict([test.user_id, test.item_id])))"
   ]
  },
  {
   "cell_type": "markdown",
   "metadata": {},
   "source": [
    "<h2>reference "
   ]
  },
  {
   "cell_type": "markdown",
   "metadata": {},
   "source": [
    "https://nipunbatra.github.io/blog/2017/recommend-keras.html\n",
    "\n",
    "https://medium.com/@jdwittenauer/deep-learning-with-keras-recommender-systems-e7b99cb29929\n",
    "\n",
    "http://www.clungu.com/MovieLens/\n",
    "\n",
    "http://blog.richardweiss.org/2016/09/25/movie-embeddings.html\n",
    "\n",
    "https://github.com/ririw/ririw.github.io/blob/master/assets/Recommending%20movies.ipynb"
   ]
  }
 ],
 "metadata": {
  "kernelspec": {
   "display_name": "Python 3",
   "language": "python",
   "name": "python3"
  },
  "language_info": {
   "codemirror_mode": {
    "name": "ipython",
    "version": 3
   },
   "file_extension": ".py",
   "mimetype": "text/x-python",
   "name": "python",
   "nbconvert_exporter": "python",
   "pygments_lexer": "ipython3",
   "version": "3.7.3"
  }
 },
 "nbformat": 4,
 "nbformat_minor": 2
}
