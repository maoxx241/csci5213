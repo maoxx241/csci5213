{
 "cells": [
  {
   "cell_type": "markdown",
   "metadata": {},
   "source": [
    "Qi Mao \n",
    "Haowen Luo"
   ]
  },
  {
   "cell_type": "code",
   "execution_count": 1,
   "metadata": {},
   "outputs": [],
   "source": [
    "from lenskit import batch, topn, util\n",
    "from lenskit import crossfold as xf\n",
    "from lenskit.batch import predict\n",
    "from lenskit.metrics.predict import rmse\n",
    "from lenskit.algorithms.basic import Bias\n",
    "from lenskit.algorithms.item_knn import ItemItem\n",
    "from lenskit.algorithms.user_knn import UserUser\n",
    "from lenskit.algorithms import Recommender\n",
    "import numpy as np\n",
    "import lenskit\n",
    "import pandas as pd\n",
    "import matplotlib as plt"
   ]
  },
  {
   "cell_type": "code",
   "execution_count": 2,
   "metadata": {},
   "outputs": [],
   "source": [
    "ratings= pd.read_csv('/Users/kindred/csci5123/a2-code/ml-100k/u.data',sep='\\t',header=None)"
   ]
  },
  {
   "cell_type": "code",
   "execution_count": 3,
   "metadata": {},
   "outputs": [
    {
     "data": {
      "text/plain": [
       "(100000, 4)"
      ]
     },
     "execution_count": 3,
     "metadata": {},
     "output_type": "execute_result"
    }
   ],
   "source": [
    "ratings.shape"
   ]
  },
  {
   "cell_type": "code",
   "execution_count": 4,
   "metadata": {},
   "outputs": [],
   "source": [
    "ratings=ratings.rename(columns={0: \"user\", 1: \"item\",2: \"rating\",3: \"timestamp\"})\n",
    "ratings=ratings[['user','item','rating']]"
   ]
  },
  {
   "cell_type": "code",
   "execution_count": 5,
   "metadata": {},
   "outputs": [
    {
     "data": {
      "text/html": [
       "<div>\n",
       "<style scoped>\n",
       "    .dataframe tbody tr th:only-of-type {\n",
       "        vertical-align: middle;\n",
       "    }\n",
       "\n",
       "    .dataframe tbody tr th {\n",
       "        vertical-align: top;\n",
       "    }\n",
       "\n",
       "    .dataframe thead th {\n",
       "        text-align: right;\n",
       "    }\n",
       "</style>\n",
       "<table border=\"1\" class=\"dataframe\">\n",
       "  <thead>\n",
       "    <tr style=\"text-align: right;\">\n",
       "      <th></th>\n",
       "      <th>user</th>\n",
       "      <th>item</th>\n",
       "      <th>rating</th>\n",
       "    </tr>\n",
       "  </thead>\n",
       "  <tbody>\n",
       "    <tr>\n",
       "      <th>0</th>\n",
       "      <td>196</td>\n",
       "      <td>242</td>\n",
       "      <td>3</td>\n",
       "    </tr>\n",
       "    <tr>\n",
       "      <th>1</th>\n",
       "      <td>186</td>\n",
       "      <td>302</td>\n",
       "      <td>3</td>\n",
       "    </tr>\n",
       "    <tr>\n",
       "      <th>2</th>\n",
       "      <td>22</td>\n",
       "      <td>377</td>\n",
       "      <td>1</td>\n",
       "    </tr>\n",
       "    <tr>\n",
       "      <th>3</th>\n",
       "      <td>244</td>\n",
       "      <td>51</td>\n",
       "      <td>2</td>\n",
       "    </tr>\n",
       "    <tr>\n",
       "      <th>4</th>\n",
       "      <td>166</td>\n",
       "      <td>346</td>\n",
       "      <td>1</td>\n",
       "    </tr>\n",
       "  </tbody>\n",
       "</table>\n",
       "</div>"
      ],
      "text/plain": [
       "   user  item  rating\n",
       "0   196   242       3\n",
       "1   186   302       3\n",
       "2    22   377       1\n",
       "3   244    51       2\n",
       "4   166   346       1"
      ]
     },
     "execution_count": 5,
     "metadata": {},
     "output_type": "execute_result"
    }
   ],
   "source": [
    "ratings.head()"
   ]
  },
  {
   "cell_type": "code",
   "execution_count": 6,
   "metadata": {
    "scrolled": true
   },
   "outputs": [
    {
     "data": {
      "text/plain": [
       "rating\n",
       "1     6110\n",
       "2    11370\n",
       "3    27145\n",
       "4    34174\n",
       "5    21201\n",
       "dtype: int64"
      ]
     },
     "execution_count": 6,
     "metadata": {},
     "output_type": "execute_result"
    }
   ],
   "source": [
    "ratings.groupby(['rating']).size()"
   ]
  },
  {
   "cell_type": "code",
   "execution_count": 7,
   "metadata": {},
   "outputs": [],
   "source": [
    "def eval(aname, algo, train, test):\n",
    "    algo.fit(train)\n",
    "    preds = predict(algo, test)\n",
    "    preds_train=predict(algo,train)\n",
    "    return [aname,rmse(preds['prediction'],preds['rating']),rmse(preds_train['prediction'],preds_train['rating'])]"
   ]
  },
  {
   "cell_type": "code",
   "execution_count": 8,
   "metadata": {},
   "outputs": [],
   "source": [
    "algo_bias_0=Bias(items=True, users=True, damping=0.0)\n",
    "algo_bias_2=Bias(items=True, users=True, damping=2.0)\n",
    "algo_bias_5=Bias(items=True, users=True, damping=5.0)\n",
    "algo_bias_10=Bias(items=True, users=True, damping=10.0)\n",
    "algo_ii=ItemItem(20)\n",
    "algo_uu=UserUser(20)\n",
    "all_recs = []\n",
    "test_data = []\n",
    "for train, test in xf.partition_users(ratings[['user', 'item', 'rating']], 5, xf.SampleFrac(0.2)):\n",
    "    test_data.append(test)\n",
    "    all_recs.append(eval('damping_0', algo_bias_0, train, test))\n",
    "    all_recs.append(eval('damping_2', algo_bias_2, train, test))\n",
    "    all_recs.append(eval('damping_5', algo_bias_5, train, test))\n",
    "    all_recs.append(eval('damping_10', algo_bias_10, train, test))\n",
    "    all_recs.append(eval('ItemItem', algo_ii, train, test))\n",
    "    all_recs.append(eval('UserUser', algo_uu, train, test))"
   ]
  },
  {
   "cell_type": "code",
   "execution_count": 9,
   "metadata": {},
   "outputs": [
    {
     "data": {
      "text/plain": [
       "[['damping_0', 0.9690556695414646, 0.9154745751422548],\n",
       " ['damping_2', 0.9629467722944918, 0.9151203559217871],\n",
       " ['damping_5', 0.9613232823439758, 0.9174863243916282],\n",
       " ['damping_10', 0.9617190748394402, 0.9219641254418134],\n",
       " ['ItemItem', 0.9239644394949029, 0.7188371928382715],\n",
       " ['UserUser', 0.9578632947479583, 0.7877410421811465],\n",
       " ['damping_0', 0.9753674713025362, 0.9149828534989737],\n",
       " ['damping_2', 0.9696708658556602, 0.9148203347246372],\n",
       " ['damping_5', 0.9713337898211158, 0.9171850682232676],\n",
       " ['damping_10', 0.9752283617062956, 0.9216043025806774],\n",
       " ['ItemItem', 0.9225491418496374, 0.718629225772867],\n",
       " ['UserUser', 0.9615216473197356, 0.7852680266703465],\n",
       " ['damping_0', 0.9053181995167681, 0.91784537671844],\n",
       " ['damping_2', 0.9008176835791089, 0.9174770843224367],\n",
       " ['damping_5', 0.9002414978446788, 0.9198423372732634],\n",
       " ['damping_10', 0.902086042575912, 0.9243293690401388],\n",
       " ['ItemItem', 0.8632044427546783, 0.7189072053168842],\n",
       " ['UserUser', 0.894620588758004, 0.7887638834683524],\n",
       " ['damping_0', 0.9519173526976424, 0.9160017203102053],\n",
       " ['damping_2', 0.9487942511879348, 0.9156039494528365],\n",
       " ['damping_5', 0.9490793833827041, 0.9179494375659721],\n",
       " ['damping_10', 0.9517699796859665, 0.9224035869583753],\n",
       " ['ItemItem', 0.9058034541886484, 0.718459801527383],\n",
       " ['UserUser', 0.9295484299063406, 0.7876683199224745],\n",
       " ['damping_0', 0.9494182438518427, 0.9160012176885202],\n",
       " ['damping_2', 0.9471842652993075, 0.9156020961975312],\n",
       " ['damping_5', 0.946936341452745, 0.9179257976890989],\n",
       " ['damping_10', 0.9482874392774925, 0.9223649155238046],\n",
       " ['ItemItem', 0.9069154137593549, 0.7185889264447503],\n",
       " ['UserUser', 0.941750382354337, 0.7883096124336262]]"
      ]
     },
     "execution_count": 9,
     "metadata": {},
     "output_type": "execute_result"
    }
   ],
   "source": [
    "all_recs"
   ]
  },
  {
   "cell_type": "code",
   "execution_count": 10,
   "metadata": {},
   "outputs": [],
   "source": [
    "df = pd.DataFrame(np.array(all_recs))\n",
    "df=df.rename(columns={0: \"algorithm\", 1: \"RSME\",2:\"RSME_for_train\"})\n",
    "df['RSME'] = df['RSME'].astype(float)\n",
    "df['RSME_for_train'] = df['RSME_for_train'].astype(float)"
   ]
  },
  {
   "cell_type": "code",
   "execution_count": 11,
   "metadata": {},
   "outputs": [
    {
     "data": {
      "text/plain": [
       "algorithm\n",
       "ItemItem      0.904487\n",
       "UserUser      0.937061\n",
       "damping_0     0.950215\n",
       "damping_10    0.947818\n",
       "damping_2     0.945883\n",
       "damping_5     0.945783\n",
       "Name: RSME, dtype: float64"
      ]
     },
     "execution_count": 11,
     "metadata": {},
     "output_type": "execute_result"
    }
   ],
   "source": [
    "df.groupby('algorithm').RSME.mean()"
   ]
  },
  {
   "cell_type": "code",
   "execution_count": 22,
   "metadata": {},
   "outputs": [
    {
     "data": {
      "text/plain": [
       "<matplotlib.axes._subplots.AxesSubplot at 0xc25a960b8>"
      ]
     },
     "execution_count": 22,
     "metadata": {},
     "output_type": "execute_result"
    },
    {
     "data": {
      "image/png": "[encoded data removed]",
      "text/plain": [
       "<Figure size 432x288 with 1 Axes>"
      ]
     },
     "metadata": {
      "needs_background": "light"
     },
     "output_type": "display_data"
    }
   ],
   "source": [
    "df.groupby('algorithm').RSME.mean().plot.bar()"
   ]
  },
  {
   "cell_type": "code",
   "execution_count": 13,
   "metadata": {},
   "outputs": [
    {
     "data": {
      "text/plain": [
       "algorithm\n",
       "ItemItem      0.718684\n",
       "UserUser      0.787550\n",
       "damping_0     0.916061\n",
       "damping_10    0.922533\n",
       "damping_2     0.915725\n",
       "damping_5     0.918078\n",
       "Name: RSME_for_train, dtype: float64"
      ]
     },
     "execution_count": 13,
     "metadata": {},
     "output_type": "execute_result"
    }
   ],
   "source": [
    "df.groupby('algorithm').RSME_for_train.mean()"
   ]
  },
  {
   "cell_type": "code",
   "execution_count": 14,
   "metadata": {},
   "outputs": [
    {
     "data": {
      "text/plain": [
       "<matplotlib.axes._subplots.AxesSubplot at 0xc2506d898>"
      ]
     },
     "execution_count": 14,
     "metadata": {},
     "output_type": "execute_result"
    },
    {
     "data": {
      "image/png": "[encoded data removed]",
      "text/plain": [
       "<Figure size 432x288 with 1 Axes>"
      ]
     },
     "metadata": {
      "needs_background": "light"
     },
     "output_type": "display_data"
    }
   ],
   "source": [
    "df.groupby('algorithm').RSME_for_train.mean().plot.bar()"
   ]
  },
  {
   "cell_type": "code",
   "execution_count": 15,
   "metadata": {},
   "outputs": [],
   "source": [
    "def eval1(aname, algo, train, test):\n",
    "    fittable = util.clone(algo)\n",
    "    fittable = Recommender.adapt(fittable)\n",
    "    fittable.fit(train)\n",
    "    users = test.user.unique()\n",
    "    # now we run the recommender\n",
    "    recs = batch.recommend(fittable, users, 100)\n",
    "    # add the algorithm name for analyzability\n",
    "    recs['Algorithm'] = aname\n",
    "    return recs"
   ]
  },
  {
   "cell_type": "code",
   "execution_count": 16,
   "metadata": {},
   "outputs": [],
   "source": [
    "all_recs = []\n",
    "test_data = []\n",
    "for train, test in xf.partition_users(ratings[['user', 'item', 'rating']], 5, xf.SampleFrac(0.2)):\n",
    "    test_data.append(test)\n",
    "    all_recs.append(eval1('damping_0', algo_bias_0, train, test))\n",
    "    all_recs.append(eval1('damping_2', algo_bias_2, train, test))\n",
    "    all_recs.append(eval1('damping_5', algo_bias_5, train, test))\n",
    "    all_recs.append(eval1('damping_10', algo_bias_10, train, test))\n",
    "    all_recs.append(eval1('ItemItem', algo_ii, train, test))\n",
    "    all_recs.append(eval1('UserUser', algo_uu, train, test))"
   ]
  },
  {
   "cell_type": "code",
   "execution_count": 17,
   "metadata": {},
   "outputs": [
    {
     "data": {
      "text/html": [
       "<div>\n",
       "<style scoped>\n",
       "    .dataframe tbody tr th:only-of-type {\n",
       "        vertical-align: middle;\n",
       "    }\n",
       "\n",
       "    .dataframe tbody tr th {\n",
       "        vertical-align: top;\n",
       "    }\n",
       "\n",
       "    .dataframe thead th {\n",
       "        text-align: right;\n",
       "    }\n",
       "</style>\n",
       "<table border=\"1\" class=\"dataframe\">\n",
       "  <thead>\n",
       "    <tr style=\"text-align: right;\">\n",
       "      <th></th>\n",
       "      <th>item</th>\n",
       "      <th>score</th>\n",
       "      <th>user</th>\n",
       "      <th>rank</th>\n",
       "      <th>Algorithm</th>\n",
       "    </tr>\n",
       "  </thead>\n",
       "  <tbody>\n",
       "    <tr>\n",
       "      <th>0</th>\n",
       "      <td>1189</td>\n",
       "      <td>5.072555</td>\n",
       "      <td>1</td>\n",
       "      <td>1</td>\n",
       "      <td>damping_0</td>\n",
       "    </tr>\n",
       "    <tr>\n",
       "      <th>1</th>\n",
       "      <td>1500</td>\n",
       "      <td>5.072555</td>\n",
       "      <td>1</td>\n",
       "      <td>2</td>\n",
       "      <td>damping_0</td>\n",
       "    </tr>\n",
       "    <tr>\n",
       "      <th>2</th>\n",
       "      <td>814</td>\n",
       "      <td>5.072555</td>\n",
       "      <td>1</td>\n",
       "      <td>3</td>\n",
       "      <td>damping_0</td>\n",
       "    </tr>\n",
       "    <tr>\n",
       "      <th>3</th>\n",
       "      <td>1536</td>\n",
       "      <td>5.072555</td>\n",
       "      <td>1</td>\n",
       "      <td>4</td>\n",
       "      <td>damping_0</td>\n",
       "    </tr>\n",
       "    <tr>\n",
       "      <th>4</th>\n",
       "      <td>1293</td>\n",
       "      <td>5.072555</td>\n",
       "      <td>1</td>\n",
       "      <td>5</td>\n",
       "      <td>damping_0</td>\n",
       "    </tr>\n",
       "  </tbody>\n",
       "</table>\n",
       "</div>"
      ],
      "text/plain": [
       "   item     score  user  rank  Algorithm\n",
       "0  1189  5.072555     1     1  damping_0\n",
       "1  1500  5.072555     1     2  damping_0\n",
       "2   814  5.072555     1     3  damping_0\n",
       "3  1536  5.072555     1     4  damping_0\n",
       "4  1293  5.072555     1     5  damping_0"
      ]
     },
     "execution_count": 17,
     "metadata": {},
     "output_type": "execute_result"
    }
   ],
   "source": [
    "all_recs = pd.concat(all_recs, ignore_index=True)\n",
    "all_recs.head()"
   ]
  },
  {
   "cell_type": "code",
   "execution_count": 18,
   "metadata": {},
   "outputs": [],
   "source": [
    "test_data = pd.concat(test_data, ignore_index=True)"
   ]
  },
  {
   "cell_type": "code",
   "execution_count": 19,
   "metadata": {},
   "outputs": [
    {
     "data": {
      "text/html": [
       "<div>\n",
       "<style scoped>\n",
       "    .dataframe tbody tr th:only-of-type {\n",
       "        vertical-align: middle;\n",
       "    }\n",
       "\n",
       "    .dataframe tbody tr th {\n",
       "        vertical-align: top;\n",
       "    }\n",
       "\n",
       "    .dataframe thead th {\n",
       "        text-align: right;\n",
       "    }\n",
       "</style>\n",
       "<table border=\"1\" class=\"dataframe\">\n",
       "  <thead>\n",
       "    <tr style=\"text-align: right;\">\n",
       "      <th></th>\n",
       "      <th></th>\n",
       "      <th>nrecs</th>\n",
       "      <th>ndcg</th>\n",
       "    </tr>\n",
       "    <tr>\n",
       "      <th>user</th>\n",
       "      <th>Algorithm</th>\n",
       "      <th></th>\n",
       "      <th></th>\n",
       "    </tr>\n",
       "  </thead>\n",
       "  <tbody>\n",
       "    <tr>\n",
       "      <th rowspan=\"5\" valign=\"top\">1</th>\n",
       "      <th>ItemItem</th>\n",
       "      <td>100.0</td>\n",
       "      <td>0.228884</td>\n",
       "    </tr>\n",
       "    <tr>\n",
       "      <th>UserUser</th>\n",
       "      <td>100.0</td>\n",
       "      <td>0.178314</td>\n",
       "    </tr>\n",
       "    <tr>\n",
       "      <th>damping_0</th>\n",
       "      <td>100.0</td>\n",
       "      <td>0.153323</td>\n",
       "    </tr>\n",
       "    <tr>\n",
       "      <th>damping_10</th>\n",
       "      <td>100.0</td>\n",
       "      <td>0.285645</td>\n",
       "    </tr>\n",
       "    <tr>\n",
       "      <th>damping_2</th>\n",
       "      <td>100.0</td>\n",
       "      <td>0.249950</td>\n",
       "    </tr>\n",
       "  </tbody>\n",
       "</table>\n",
       "</div>"
      ],
      "text/plain": [
       "                 nrecs      ndcg\n",
       "user Algorithm                  \n",
       "1    ItemItem    100.0  0.228884\n",
       "     UserUser    100.0  0.178314\n",
       "     damping_0   100.0  0.153323\n",
       "     damping_10  100.0  0.285645\n",
       "     damping_2   100.0  0.249950"
      ]
     },
     "execution_count": 19,
     "metadata": {},
     "output_type": "execute_result"
    }
   ],
   "source": [
    "rla = topn.RecListAnalysis()\n",
    "rla.add_metric(topn.ndcg)\n",
    "results = rla.compute(all_recs, test_data)\n",
    "results.head()"
   ]
  },
  {
   "cell_type": "code",
   "execution_count": 20,
   "metadata": {},
   "outputs": [
    {
     "data": {
      "text/plain": [
       "Algorithm\n",
       "ItemItem      0.100869\n",
       "UserUser      0.064191\n",
       "damping_0     0.074737\n",
       "damping_10    0.139422\n",
       "damping_2     0.109371\n",
       "damping_5     0.128866\n",
       "Name: ndcg, dtype: float64"
      ]
     },
     "execution_count": 20,
     "metadata": {},
     "output_type": "execute_result"
    }
   ],
   "source": [
    "results.groupby('Algorithm').ndcg.mean()"
   ]
  },
  {
   "cell_type": "code",
   "execution_count": 21,
   "metadata": {},
   "outputs": [
    {
     "data": {
      "text/plain": [
       "<matplotlib.axes._subplots.AxesSubplot at 0xc25adc828>"
      ]
     },
     "execution_count": 21,
     "metadata": {},
     "output_type": "execute_result"
    },
    {
     "data": {
      "image/png": "[encoded data removed]",
      "text/plain": [
       "<Figure size 432x288 with 1 Axes>"
      ]
     },
     "metadata": {
      "needs_background": "light"
     },
     "output_type": "display_data"
    }
   ],
   "source": [
    "results.groupby('Algorithm').ndcg.mean().plot.bar()"
   ]
  }
 ],
 "metadata": {
  "kernelspec": {
   "display_name": "Python 3",
   "language": "python",
   "name": "python3"
  },
  "language_info": {
   "codemirror_mode": {
    "name": "ipython",
    "version": 3
   },
   "file_extension": ".py",
   "mimetype": "text/x-python",
   "name": "python",
   "nbconvert_exporter": "python",
   "pygments_lexer": "ipython3",
   "version": "3.7.3"
  }
 },
 "nbformat": 4,
 "nbformat_minor": 2
}
